{
 "cells": [
  {
   "cell_type": "markdown",
   "id": "930da149-83b3-4c70-8b24-7f853ed17abe",
   "metadata": {},
   "source": [
    "## Doped method of defect generation </br>\n",
    "\n",
    "Doped's DefectsGenerator definition from the generation package is able to generate a defect given a POSCAR (example used here is a 2x2 monolayer MoS$_2$"
   ]
  },
  {
   "cell_type": "code",
   "execution_count": 2,
   "id": "cb317671-ebdc-4fb6-8e08-e0be7417427e",
   "metadata": {
    "tags": []
   },
   "outputs": [],
   "source": [
    "from pymatgen.core.structure import Structure\n",
    "from doped.generation import DefectsGenerator"
   ]
  },
  {
   "cell_type": "code",
   "execution_count": 3,
   "id": "57554162-27a7-4353-9616-83bf75a79294",
   "metadata": {
    "tags": []
   },
   "outputs": [
    {
     "name": "stderr",
     "output_type": "stream",
     "text": [
      "Generating DefectEntry objects: 100.0%|████████████████████| [00:02,  47.47it/s]"
     ]
    },
    {
     "name": "stdout",
     "output_type": "stream",
     "text": [
      "Vacancies    Guessed Charges     Conv. Cell Coords    Wyckoff\n",
      "-----------  ------------------  -------------------  ---------\n",
      "v_Mo         [-4,-3,-2,-1,0,+1]  [0.000,0.000,0.500]  1b\n",
      "v_S          [-1,0,+1,+2]        [0.667,0.333,0.414]  2i\n",
      "\n",
      "Substitutions    Guessed Charges              Conv. Cell Coords    Wyckoff\n",
      "---------------  ---------------------------  -------------------  ---------\n",
      "Mo_S             [0,+1,+2,+3,+4,+5,+6,+7,+8]  [0.667,0.333,0.414]  2i\n",
      "S_Mo             [-6,-5,-4,-3,-2,-1,0,+1,+2]  [0.000,0.000,0.500]  1b\n",
      "\n",
      "Interstitials    Guessed Charges        Conv. Cell Coords    Wyckoff\n",
      "---------------  ---------------------  -------------------  ---------\n",
      "Mo_i_C3v_Mo1.86  [0,+1,+2,+3,+4,+5,+6]  [0.000,0.000,0.397]  2g\n",
      "Mo_i_C3v_Mo2.00  [0,+1,+2,+3,+4,+5,+6]  [0.333,0.667,0.457]  2h\n",
      "Mo_i_D3h         [0,+1,+2,+3,+4,+5,+6]  [0.000,0.000,0.000]  1a\n",
      "S_i_C3v_Mo1.86   [-2,-1,0,+1,+2,+3,+4]  [0.000,0.000,0.397]  2g\n",
      "S_i_C3v_Mo2.00   [-2,-1,0,+1,+2,+3,+4]  [0.333,0.667,0.457]  2h\n",
      "S_i_D3h          [-2,-1,0,+1,+2,+3,+4]  [0.000,0.000,0.000]  1a\n",
      "\n",
      "The number in the Wyckoff label is the site multiplicity/degeneracy of that defect in the conventional ('conv.') unit cell, which comprises 1 formula unit(s) of MoS2.\n",
      "Note that Wyckoff letters can depend on the ordering of elements in the conventional standard structure, for which doped uses the spglib convention.\n"
     ]
    },
    {
     "name": "stderr",
     "output_type": "stream",
     "text": [
      "\n"
     ]
    }
   ],
   "source": [
    "# Load our host structure:\n",
    "mos2_2x2 = Structure.from_file(\"../structures/MoS2_2x2x1.vasp\")\n",
    "\n",
    "# generate defects:\n",
    "defect_gen = DefectsGenerator(mos2_2x2)"
   ]
  },
  {
   "cell_type": "markdown",
   "id": "7cd17f06-d310-4121-9f2b-561ed3a5b480",
   "metadata": {},
   "source": [
    "DefectsGenerator also is able to automatically choose supercell size based on volumetric size (expands cell until it is 10 Angstroms in each direction); whether this also holds true for monolayer structures is unknown. Doped also has its own algorithm for deciding \"reasonable\" charged states and guesses based on that"
   ]
  },
  {
   "cell_type": "code",
   "execution_count": 4,
   "id": "a89d23af-7eec-4b30-ba9a-1488c1ad10ae",
   "metadata": {
    "tags": []
   },
   "outputs": [
    {
     "data": {
      "text/plain": [
       "dict_keys(['v_Mo_-4', 'v_Mo_-3', 'v_Mo_-2', 'v_Mo_-1', 'v_Mo_0', 'v_Mo_+1', 'v_S_-1', 'v_S_0', 'v_S_+1', 'v_S_+2', 'Mo_S_0', 'Mo_S_+1', 'Mo_S_+2', 'Mo_S_+3', 'Mo_S_+4', 'Mo_S_+5', 'Mo_S_+6', 'Mo_S_+7', 'Mo_S_+8', 'S_Mo_-6', 'S_Mo_-5', 'S_Mo_-4', 'S_Mo_-3', 'S_Mo_-2', 'S_Mo_-1', 'S_Mo_0', 'S_Mo_+1', 'S_Mo_+2', 'Mo_i_C3v_Mo1.86_0', 'Mo_i_C3v_Mo1.86_+1', 'Mo_i_C3v_Mo1.86_+2', 'Mo_i_C3v_Mo1.86_+3', 'Mo_i_C3v_Mo1.86_+4', 'Mo_i_C3v_Mo1.86_+5', 'Mo_i_C3v_Mo1.86_+6', 'Mo_i_C3v_Mo2.00_0', 'Mo_i_C3v_Mo2.00_+1', 'Mo_i_C3v_Mo2.00_+2', 'Mo_i_C3v_Mo2.00_+3', 'Mo_i_C3v_Mo2.00_+4', 'Mo_i_C3v_Mo2.00_+5', 'Mo_i_C3v_Mo2.00_+6', 'Mo_i_D3h_0', 'Mo_i_D3h_+1', 'Mo_i_D3h_+2', 'Mo_i_D3h_+3', 'Mo_i_D3h_+4', 'Mo_i_D3h_+5', 'Mo_i_D3h_+6', 'S_i_C3v_Mo1.86_-2', 'S_i_C3v_Mo1.86_-1', 'S_i_C3v_Mo1.86_0', 'S_i_C3v_Mo1.86_+1', 'S_i_C3v_Mo1.86_+2', 'S_i_C3v_Mo1.86_+3', 'S_i_C3v_Mo1.86_+4', 'S_i_C3v_Mo2.00_-2', 'S_i_C3v_Mo2.00_-1', 'S_i_C3v_Mo2.00_0', 'S_i_C3v_Mo2.00_+1', 'S_i_C3v_Mo2.00_+2', 'S_i_C3v_Mo2.00_+3', 'S_i_C3v_Mo2.00_+4', 'S_i_D3h_-2', 'S_i_D3h_-1', 'S_i_D3h_0', 'S_i_D3h_+1', 'S_i_D3h_+2', 'S_i_D3h_+3', 'S_i_D3h_+4'])"
      ]
     },
     "execution_count": 4,
     "metadata": {},
     "output_type": "execute_result"
    }
   ],
   "source": [
    "# show the generated defect entries:\n",
    "defect_gen.defect_entries.keys()\n",
    "\n"
   ]
  },
  {
   "cell_type": "markdown",
   "id": "fcf2791f-b6e0-4105-a373-84beba1f411f",
   "metadata": {},
   "source": [
    "The generator defects are stored in a dictionary as seen above. States can be added/removed manually via:"
   ]
  },
  {
   "cell_type": "code",
   "execution_count": 5,
   "id": "66628b94-9291-4383-ab7a-7197a94d1a71",
   "metadata": {
    "tags": []
   },
   "outputs": [
    {
     "data": {
      "text/plain": [
       "DefectsGenerator for input composition MoS2, space group P-6m2 with 68 defect entries created.\n",
       "---------------------------------------------------------\n",
       "Vacancies    Guessed Charges    Conv. Cell Coords    Wyckoff\n",
       "-----------  -----------------  -------------------  ---------\n",
       "v_Mo         [-2,-1,0,+1]       [0.000,0.000,0.500]  1b\n",
       "v_S          [-1,0,+1,+2]       [0.667,0.333,0.414]  2i\n",
       "\n",
       "Substitutions    Guessed Charges              Conv. Cell Coords    Wyckoff\n",
       "---------------  ---------------------------  -------------------  ---------\n",
       "Mo_S             [0,+1,+2,+3,+4,+5,+6,+7,+8]  [0.667,0.333,0.414]  2i\n",
       "S_Mo             [-6,-5,-4,-3,-2,-1,0,+1,+2]  [0.000,0.000,0.500]  1b\n",
       "\n",
       "Interstitials    Guessed Charges        Conv. Cell Coords    Wyckoff\n",
       "---------------  ---------------------  -------------------  ---------\n",
       "Mo_i_C3v_Mo1.86  [0,+1,+2,+3,+4,+5,+6]  [0.000,0.000,0.397]  2g\n",
       "Mo_i_C3v_Mo2.00  [0,+1,+2,+3,+4,+5,+6]  [0.333,0.667,0.457]  2h\n",
       "Mo_i_D3h         [0,+1,+2,+3,+4,+5,+6]  [0.000,0.000,0.000]  1a\n",
       "S_i_C3v_Mo1.86   [-2,-1,0,+1,+2,+3,+4]  [0.000,0.000,0.397]  2g\n",
       "S_i_C3v_Mo2.00   [-2,-1,0,+1,+2,+3,+4]  [0.333,0.667,0.457]  2h\n",
       "S_i_D3h          [-2,-1,0,+1,+2,+3,+4]  [0.000,0.000,0.000]  1a\n",
       "\n",
       "The number in the Wyckoff label is the site multiplicity/degeneracy of that defect in the conventional ('conv.') unit cell, which comprises 1 formula unit(s) of MoS2.\n",
       "Note that Wyckoff letters can depend on the ordering of elements in the conventional standard structure, for which doped uses the spglib convention."
      ]
     },
     "execution_count": 5,
     "metadata": {},
     "output_type": "execute_result"
    }
   ],
   "source": [
    "# Add some extra charge states for Mo_S antisites\n",
    "defect_gen.add_charge_states(\"Mo_S\", [1, 2])\n",
    "# Remove some charge states for v_Mo\n",
    "defect_gen.remove_charge_states(\"v_Mo\", [-4,-3])\n",
    "\n",
    "#check modified entry:\n",
    "defect_gen"
   ]
  },
  {
   "cell_type": "markdown",
   "id": "a4ca7520-532a-4692-b761-c0e52c5b6f09",
   "metadata": {},
   "source": [
    "For my needs, direct substitutions and interstitial defects are unimportant, so to remove all substitutions/interstitials they can be done manually:"
   ]
  },
  {
   "cell_type": "code",
   "execution_count": 6,
   "id": "b10896c7-4b5b-4dd0-9d4f-829746bfdc01",
   "metadata": {
    "tags": []
   },
   "outputs": [
    {
     "data": {
      "text/plain": [
       "DefectsGenerator for input composition MoS2, space group P-6m2 with 8 defect entries created.\n",
       "---------------------------------------------------------\n",
       "Vacancies    Guessed Charges    Conv. Cell Coords    Wyckoff\n",
       "-----------  -----------------  -------------------  ---------\n",
       "v_Mo         [-2,-1,0,+1]       [0.000,0.000,0.500]  1b\n",
       "v_S          [-1,0,+1,+2]       [0.667,0.333,0.414]  2i\n",
       "\n",
       "Substitutions    Guessed Charges    Conv. Cell Coords    Wyckoff\n",
       "---------------  -----------------  -------------------  ---------\n",
       "\n",
       "Interstitials    Guessed Charges    Conv. Cell Coords    Wyckoff\n",
       "---------------  -----------------  -------------------  ---------\n",
       "\n",
       "The number in the Wyckoff label is the site multiplicity/degeneracy of that defect in the conventional ('conv.') unit cell, which comprises 1 formula unit(s) of MoS2.\n",
       "Note that Wyckoff letters can depend on the ordering of elements in the conventional standard structure, for which doped uses the spglib convention."
      ]
     },
     "execution_count": 6,
     "metadata": {},
     "output_type": "execute_result"
    }
   ],
   "source": [
    "defect_gen.remove_charge_states(\"Mo_S\", [-2,-1,0,+1,+2,+3,+4,+5,+6,+7,+8])\n",
    "defect_gen.remove_charge_states(\"S_Mo\", [-6,-5,-4,-3,-2,-1,0,+1,+2])\n",
    "defect_gen.remove_charge_states(\"Mo_i_C3v_Mo1.86\",  [0,+1,+2,+3,+4,+5,+6])\n",
    "defect_gen.remove_charge_states(\"Mo_i_D3h\",[0,+1,+2,+3,+4,+5,+6])\n",
    "defect_gen.remove_charge_states(\"S_i_C3v_Mo1.86\",   [-2,-1,0,+1,+2,+3,+4])\n",
    "defect_gen.remove_charge_states(\"S_i_D3h\",          [-2,-1,0,+1,+2,+3,+4])\n",
    "\n",
    "defect_gen"
   ]
  },
  {
   "cell_type": "code",
   "execution_count": 7,
   "id": "686cc59d-f7b8-4960-8535-2d93d40833cc",
   "metadata": {
    "tags": []
   },
   "outputs": [
    {
     "data": {
      "text/plain": [
       "{'v_Mo_-2': <doped.vasp.DefectRelaxSet at 0x15530112dc90>,\n",
       " 'v_Mo_-1': <doped.vasp.DefectRelaxSet at 0x155300fbf150>,\n",
       " 'v_Mo_0': <doped.vasp.DefectRelaxSet at 0x15530159e0d0>,\n",
       " 'v_Mo_+1': <doped.vasp.DefectRelaxSet at 0x155301941250>,\n",
       " 'v_S_-1': <doped.vasp.DefectRelaxSet at 0x1553010fc990>,\n",
       " 'v_S_0': <doped.vasp.DefectRelaxSet at 0x15530134ce10>,\n",
       " 'v_S_+1': <doped.vasp.DefectRelaxSet at 0x155301376c90>,\n",
       " 'v_S_+2': <doped.vasp.DefectRelaxSet at 0x155301726990>}"
      ]
     },
     "execution_count": 7,
     "metadata": {},
     "output_type": "execute_result"
    }
   ],
   "source": [
    "from doped.vasp import DefectsSet\n",
    "defect_set = DefectsSet(\n",
    "    defect_gen,  # our DefectsGenerator object, can also input individual DefectEntry objects if desired\n",
    "    user_incar_settings={\"ENCUT\": 350},  # custom INCAR settings, any that aren't numbers or True/False need to be input as strings with quotation marks!\n",
    ")\n",
    "\n",
    "\n",
    "\n",
    "defect_set.defect_sets\n"
   ]
  },
  {
   "cell_type": "code",
   "execution_count": 8,
   "id": "8f7ab5cf-db88-4c56-bbb0-32d517562c49",
   "metadata": {
    "tags": []
   },
   "outputs": [
    {
     "name": "stderr",
     "output_type": "stream",
     "text": [
      "Generating and writing input files: 100%|█████████| 8/8 [00:00<00:00,  9.28it/s]\n"
     ]
    }
   ],
   "source": [
    "defect_set.write_files()"
   ]
  },
  {
   "cell_type": "code",
   "execution_count": 12,
   "id": "82d943c3-a1b7-4017-9305-a49d267845ee",
   "metadata": {
    "tags": []
   },
   "outputs": [
    {
     "ename": "KeyError",
     "evalue": "'lattice'",
     "output_type": "error",
     "traceback": [
      "\u001b[0;31m---------------------------------------------------------------------------\u001b[0m",
      "\u001b[0;31mKeyError\u001b[0m                                  Traceback (most recent call last)",
      "Cell \u001b[0;32mIn[12], line 5\u001b[0m\n\u001b[1;32m      3\u001b[0m \u001b[38;5;28;01mwith\u001b[39;00m \u001b[38;5;28mopen\u001b[39m(\u001b[38;5;124m'\u001b[39m\u001b[38;5;124m./v_S_-1/vasp_std/v_S_-1.json\u001b[39m\u001b[38;5;124m'\u001b[39m) \u001b[38;5;28;01mas\u001b[39;00m file:\n\u001b[1;32m      4\u001b[0m     dct \u001b[38;5;241m=\u001b[39m json\u001b[38;5;241m.\u001b[39mload(file)\n\u001b[0;32m----> 5\u001b[0m     structure \u001b[38;5;241m=\u001b[39m \u001b[43mStructure\u001b[49m\u001b[38;5;241;43m.\u001b[39;49m\u001b[43mfrom_dict\u001b[49m\u001b[43m(\u001b[49m\u001b[43mdct\u001b[49m\u001b[43m)\u001b[49m\n",
      "File \u001b[0;32m~/anaconda3/envs/monolayer-defect/lib/python3.11/site-packages/pymatgen/core/structure.py:2615\u001b[0m, in \u001b[0;36mIStructure.from_dict\u001b[0;34m(cls, d, fmt)\u001b[0m\n\u001b[1;32m   2611\u001b[0m     \u001b[38;5;28;01mfrom\u001b[39;00m \u001b[38;5;21;01mpymatgen\u001b[39;00m\u001b[38;5;21;01m.\u001b[39;00m\u001b[38;5;21;01mio\u001b[39;00m\u001b[38;5;21;01m.\u001b[39;00m\u001b[38;5;21;01mabinit\u001b[39;00m\u001b[38;5;21;01m.\u001b[39;00m\u001b[38;5;21;01mabiobjects\u001b[39;00m \u001b[38;5;28;01mimport\u001b[39;00m structure_from_abivars\n\u001b[1;32m   2613\u001b[0m     \u001b[38;5;28;01mreturn\u001b[39;00m structure_from_abivars(\u001b[38;5;28mcls\u001b[39m\u001b[38;5;241m=\u001b[39m\u001b[38;5;28mcls\u001b[39m, \u001b[38;5;241m*\u001b[39m\u001b[38;5;241m*\u001b[39md)\n\u001b[0;32m-> 2615\u001b[0m lattice \u001b[38;5;241m=\u001b[39m Lattice\u001b[38;5;241m.\u001b[39mfrom_dict(\u001b[43md\u001b[49m\u001b[43m[\u001b[49m\u001b[38;5;124;43m\"\u001b[39;49m\u001b[38;5;124;43mlattice\u001b[39;49m\u001b[38;5;124;43m\"\u001b[39;49m\u001b[43m]\u001b[49m)\n\u001b[1;32m   2616\u001b[0m sites \u001b[38;5;241m=\u001b[39m [PeriodicSite\u001b[38;5;241m.\u001b[39mfrom_dict(sd, lattice) \u001b[38;5;28;01mfor\u001b[39;00m sd \u001b[38;5;129;01min\u001b[39;00m d[\u001b[38;5;124m\"\u001b[39m\u001b[38;5;124msites\u001b[39m\u001b[38;5;124m\"\u001b[39m]]\n\u001b[1;32m   2617\u001b[0m charge \u001b[38;5;241m=\u001b[39m d\u001b[38;5;241m.\u001b[39mget(\u001b[38;5;124m\"\u001b[39m\u001b[38;5;124mcharge\u001b[39m\u001b[38;5;124m\"\u001b[39m)\n",
      "\u001b[0;31mKeyError\u001b[0m: 'lattice'"
     ]
    }
   ],
   "source": [
    "import json\n",
    "\n",
    "with open('./v_S_-1/vasp_std/v_S_-1.json') as file:\n",
    "    dct = json.load(file)\n",
    "    structure = Structure.from_dict(dct)\n"
   ]
  }
 ],
 "metadata": {
  "kernelspec": {
   "display_name": "Python 3 (ipykernel)",
   "language": "python",
   "name": "python3"
  },
  "language_info": {
   "codemirror_mode": {
    "name": "ipython",
    "version": 3
   },
   "file_extension": ".py",
   "mimetype": "text/x-python",
   "name": "python",
   "nbconvert_exporter": "python",
   "pygments_lexer": "ipython3",
   "version": "3.11.6"
  }
 },
 "nbformat": 4,
 "nbformat_minor": 5
}
