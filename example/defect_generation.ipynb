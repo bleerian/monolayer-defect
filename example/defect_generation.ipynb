{
 "cells": [
  {
   "cell_type": "code",
   "execution_count": 1,
   "id": "68ff99cc-aa04-4c6d-91cf-b65a0ea339df",
   "metadata": {
    "tags": []
   },
   "outputs": [],
   "source": [
    "\"\"\"\n",
    "A very simple (too simple?) way of generating a simple vacancy in a POSCAR file.\n",
    "\n",
    "Use Example: (given that POSCAR file is stored in ../structures)\n",
    "python3 defect_generation.py\n",
    "\n",
    "File name of POSCAR to defect:  \"Input POSCAR name\"\n",
    "Enter site of defect:  \"Input site to defect\"\n",
    "Name of defect POSCAR:  \"Input filename to save to\"\n",
    "\n",
    "Current limitations, you must know which site to defect (ie for 2x2 MoS2, there are 4 Mo and 8 S, So index 0-3 describes Mo and 4-7 describes S)\n",
    "\"\"\"\n",
    "\n",
    "# Import the necessary class from the script\n",
    "import sys\n",
    "sys.path.append('../scripts')\n",
    "from simple_defect_generation import DefectFormation"
   ]
  },
  {
   "cell_type": "code",
   "execution_count": 4,
   "id": "a860c11b-d364-439a-976b-cfacdc3e66fd",
   "metadata": {
    "tags": []
   },
   "outputs": [
    {
     "name": "stdin",
     "output_type": "stream",
     "text": [
      "Enter POSCAR to defect (/path/to/AB.vasp) ../structures/MoS2_2x2x1.vasp\n",
      "Enter site of defect:  4\n",
      "Save defect POSCAR as:  MoS2_V_S_2x2.vasp\n"
     ]
    }
   ],
   "source": [
    "filename = input(\"Enter POSCAR to defect (/path/to/AB.vasp)\")\n",
    "\n",
    "#create an instance of DefectFormation Class\n",
    "\n",
    "defect_maker = DefectFormation(filename)\n",
    "\n",
    "site_index = int(input(\"Enter site of defect: \"))\n",
    "\n",
    "vacancy_def = defect_maker.create_vacancy(site_index)\n",
    "\n",
    "output_filename = input(\"Save defect POSCAR as: \")\n",
    "defect_maker.write_poscar(output_filename)"
   ]
  },
  {
   "cell_type": "code",
   "execution_count": null,
   "id": "275c3c3f-a2d4-4eae-8ffb-4021867f240d",
   "metadata": {
    "tags": []
   },
   "outputs": [],
   "source": []
  }
 ],
 "metadata": {
  "kernelspec": {
   "display_name": "Python 3 (ipykernel)",
   "language": "python",
   "name": "python3"
  },
  "language_info": {
   "codemirror_mode": {
    "name": "ipython",
    "version": 3
   },
   "file_extension": ".py",
   "mimetype": "text/x-python",
   "name": "python",
   "nbconvert_exporter": "python",
   "pygments_lexer": "ipython3",
   "version": "3.11.6"
  }
 },
 "nbformat": 4,
 "nbformat_minor": 5
}
