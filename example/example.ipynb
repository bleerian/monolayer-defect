{
 "cells": [
  {
   "cell_type": "markdown",
   "id": "41ca4066-589a-450b-ac5d-543bbd4f0201",
   "metadata": {},
   "source": [
    "## Constructing a supercell from a .xyz file from C2DB"
   ]
  },
  {
   "cell_type": "code",
   "execution_count": 2,
   "id": "e40ef099-9ee0-4896-8559-7331416dd044",
   "metadata": {},
   "outputs": [],
   "source": [
    "# Import the necessary class from the script\n",
    "import sys\n",
    "sys.path.append('../scripts')\n",
    "from xyz2supercell import StructureBuilder"
   ]
  },
  {
   "cell_type": "code",
   "execution_count": 4,
   "id": "7d49245c-a249-400c-a3cc-f7e64aab6ac1",
   "metadata": {},
   "outputs": [
    {
     "name": "stdin",
     "output_type": "stream",
     "text": [
      "Enter /path/to/AB.xyz ../structures/MoS2.xyz\n"
     ]
    }
   ],
   "source": [
    "filename = input(\"Enter /path/to/AB.xyz\")\n",
    "\n",
    "# Create an instance of the StructureBuilder class\n",
    "builder = StructureBuilder(filename)\n",
    "\n",
    "# Extract elements from the XYZ file\n",
    "builder.extract_elements()\n",
    "\n",
    "# Extract lattice constants from the XYZ file\n",
    "builder.set_lattice_constants()\n",
    "\n",
    "# Construct coordinates from the XYZ file\n",
    "builder.construct_coordinates()\n",
    "\n",
    "# Build the structure\n",
    "builder.build_structure()\n",
    "\n",
    "# Create a supercell by specifying the dimensions (e.g., 2x2x2)\n",
    "scell_a = 2\n",
    "scell_b = 2\n",
    "scell_c = 1\n",
    "\n",
    "builder.supercell(scell_a, scell_b, scell_c)\n",
    "\n",
    "# Convert the structure to POSCAR format\n",
    "builder.convert_to_poscar()\n",
    "\n",
    "# Write the POSCAR to a file\n",
    "builder.write_poscar_to_file()\n"
   ]
  },
  {
   "cell_type": "markdown",
   "id": "b1e48881-49d7-4988-be91-c3e00ce61a5f",
   "metadata": {},
   "source": [
    "## Generating a simple single atom vacancy using simple_defect_generation from a POSCAR file"
   ]
  },
  {
   "cell_type": "code",
   "execution_count": null,
   "id": "d7bec975-f518-4052-ac3d-9a1ee7df127f",
   "metadata": {
    "tags": []
   },
   "outputs": [],
   "source": [
    "# Import the necessary class from the script\n",
    "import sys\n",
    "sys.path.append('../scripts')\n",
    "from simple_defect_generation import DefectFormation\n",
    "\n",
    "filename = input(\"Enter POSCAR to defect (/path/to/AB.vasp)\")\n",
    "\n",
    "#create an instance of DefectFormation Class\n",
    "\n",
    "defect_maker = DefectFormation(filename)\n",
    "\n",
    "site_index = int(input(\"Enter site of defect: \"))\n",
    "\n",
    "vacancy_def = defect_maker.create_vacancy(site_index)\n",
    "\n",
    "output_filename = input(\"Save defect POSCAR as: \")\n",
    "defect_maker.write_poscar(output_filename)"
   ]
  }
 ],
 "metadata": {
  "kernelspec": {
   "display_name": "Python 3 (ipykernel)",
   "language": "python",
   "name": "python3"
  },
  "language_info": {
   "codemirror_mode": {
    "name": "ipython",
    "version": 3
   },
   "file_extension": ".py",
   "mimetype": "text/x-python",
   "name": "python",
   "nbconvert_exporter": "python",
   "pygments_lexer": "ipython3",
   "version": "3.11.6"
  }
 },
 "nbformat": 4,
 "nbformat_minor": 5
}
