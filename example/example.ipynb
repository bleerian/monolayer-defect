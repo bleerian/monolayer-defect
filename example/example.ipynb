{
 "cells": [
  {
   "cell_type": "markdown",
   "id": "41ca4066-589a-450b-ac5d-543bbd4f0201",
   "metadata": {},
   "source": [
    "## Constructing a supercell from a .xyz file from C2DB"
   ]
  },
  {
   "cell_type": "code",
   "execution_count": 7,
   "id": "e40ef099-9ee0-4896-8559-7331416dd044",
   "metadata": {},
   "outputs": [],
   "source": [
    "# Import the necessary class from the script\n",
    "import sys\n",
    "sys.path.append('../scripts')\n",
    "from xyz2supercell import StructureBuilder"
   ]
  },
  {
   "cell_type": "code",
   "execution_count": 8,
   "id": "7d49245c-a249-400c-a3cc-f7e64aab6ac1",
   "metadata": {},
   "outputs": [
    {
     "name": "stdin",
     "output_type": "stream",
     "text": [
      "Enter /path/to/AB.xyz ../structures/MoS2.xyz\n"
     ]
    }
   ],
   "source": [
    "filename = input(\"Enter /path/to/AB.xyz\")\n",
    "\n",
    "# Create an instance of the StructureBuilder class\n",
    "builder = StructureBuilder(filename)\n",
    "\n",
    "# Extract elements from the XYZ file\n",
    "builder.extract_elements()\n",
    "\n",
    "# Extract lattice constants from the XYZ file\n",
    "builder.set_lattice_constants()\n",
    "\n",
    "# Construct coordinates from the XYZ file\n",
    "builder.construct_coordinates()\n",
    "\n",
    "# Build the structure\n",
    "builder.build_structure()\n",
    "\n",
    "# Create a supercell by specifying the dimensions (e.g., 2x2x2)\n",
    "scell_a = 2\n",
    "scell_b = 2\n",
    "scell_c = 1\n",
    "\n",
    "builder.supercell(scell_a, scell_b, scell_c)\n",
    "\n",
    "# Convert the structure to POSCAR format\n",
    "builder.convert_to_poscar()\n",
    "\n",
    "# Write the POSCAR to a file\n",
    "builder.write_poscar_to_file()\n"
   ]
  },
  {
   "cell_type": "markdown",
   "id": "b1e48881-49d7-4988-be91-c3e00ce61a5f",
   "metadata": {},
   "source": [
    "## Generating a simple single atom vacancy using simple_defect_generation from a POSCAR file"
   ]
  },
  {
   "cell_type": "code",
   "execution_count": 9,
   "id": "d7bec975-f518-4052-ac3d-9a1ee7df127f",
   "metadata": {
    "tags": []
   },
   "outputs": [
    {
     "name": "stdin",
     "output_type": "stream",
     "text": [
      "Enter POSCAR to defect (/path/to/AB.vasp) MoS2_2x2x1.vasp\n",
      "Enter site of defect:  4\n",
      "Save defect POSCAR as:  2x2_MoS2_V_S.vasp\n"
     ]
    }
   ],
   "source": [
    "# Import the necessary class from the script\n",
    "import sys\n",
    "sys.path.append('../scripts')\n",
    "from simple_defect_generation import DefectFormation\n",
    "\n",
    "filename = input(\"Enter POSCAR to defect (/path/to/AB.vasp)\")\n",
    "\n",
    "#create an instance of DefectFormation Class\n",
    "\n",
    "defect_maker = DefectFormation(filename)\n",
    "\n",
    "site_index = int(input(\"Enter site of defect: \"))\n",
    "\n",
    "vacancy_def = defect_maker.create_vacancy(site_index)\n",
    "\n",
    "output_filename = input(\"Save defect POSCAR as: \")\n",
    "defect_maker.write_poscar(output_filename)"
   ]
  },
  {
   "cell_type": "markdown",
   "id": "6bc04e34-ca40-41b5-a6e3-a457fa8f4816",
   "metadata": {},
   "source": [
    "At this point, we have a method to generating a POSCAR file given a pristine monolayer .xyz file from C2DB (since lattice constants are pulled from the first line of the .xyz file). To calculate a vasp calculation, a method of POTCAR, INCAR, KPOINT generation is necessary (also a jobscript if running on HPC)from pymatgen.core import Element\n",
    "from pymatgen.io.vasp.inputs import PotcarSingle\n",
    "from pymatgen.core import Element\n",
    "from pymatgen.io.vasp.inputs import PotcarSingle\n"
   ]
  },
  {
   "cell_type": "code",
   "execution_count": 13,
   "id": "2c8ff436-e2da-45ac-a47c-e614b6f16c5c",
   "metadata": {
    "tags": []
   },
   "outputs": [
    {
     "ename": "NameError",
     "evalue": "name '__init__' is not defined",
     "output_type": "error",
     "traceback": [
      "\u001b[0;31m---------------------------------------------------------------------------\u001b[0m",
      "\u001b[0;31mNameError\u001b[0m                                 Traceback (most recent call last)",
      "Cell \u001b[0;32mIn[13], line 4\u001b[0m\n\u001b[1;32m      1\u001b[0m \u001b[38;5;28;01mfrom\u001b[39;00m \u001b[38;5;21;01mpymatgen\u001b[39;00m\u001b[38;5;21;01m.\u001b[39;00m\u001b[38;5;21;01mcore\u001b[39;00m \u001b[38;5;28;01mimport\u001b[39;00m Element\n\u001b[1;32m      2\u001b[0m \u001b[38;5;28;01mfrom\u001b[39;00m \u001b[38;5;21;01mpymatgen\u001b[39;00m\u001b[38;5;21;01m.\u001b[39;00m\u001b[38;5;21;01mio\u001b[39;00m\u001b[38;5;21;01m.\u001b[39;00m\u001b[38;5;21;01mvasp\u001b[39;00m\u001b[38;5;21;01m.\u001b[39;00m\u001b[38;5;21;01minputs\u001b[39;00m \u001b[38;5;28;01mimport\u001b[39;00m Potcar\n\u001b[0;32m----> 4\u001b[0m Potcar(\u001b[38;5;21;43m__init__\u001b[39;49m)\n",
      "\u001b[0;31mNameError\u001b[0m: name '__init__' is not defined"
     ]
    }
   ],
   "source": [
    "from pymatgen.core import Element\n",
    "from pymatgen.io.vasp.inputs import Potcar\n"
   ]
  }
 ],
 "metadata": {
  "kernelspec": {
   "display_name": "Python 3 (ipykernel)",
   "language": "python",
   "name": "python3"
  },
  "language_info": {
   "codemirror_mode": {
    "name": "ipython",
    "version": 3
   },
   "file_extension": ".py",
   "mimetype": "text/x-python",
   "name": "python",
   "nbconvert_exporter": "python",
   "pygments_lexer": "ipython3",
   "version": "3.11.6"
  }
 },
 "nbformat": 4,
 "nbformat_minor": 5
}
