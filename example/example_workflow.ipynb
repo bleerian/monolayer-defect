{
 "cells": [
  {
   "cell_type": "markdown",
   "id": "41ca4066-589a-450b-ac5d-543bbd4f0201",
   "metadata": {},
   "source": [
    "## Constructing a supercell from a .xyz file from C2DB"
   ]
  },
  {
   "cell_type": "code",
   "execution_count": 5,
   "id": "e40ef099-9ee0-4896-8559-7331416dd044",
   "metadata": {},
   "outputs": [],
   "source": [
    "# Import the necessary class from the script\n",
    "import sys\n",
    "sys.path.append('../scripts')\n",
    "from xyz2supercell import StructureBuilder"
   ]
  },
  {
   "cell_type": "code",
   "execution_count": 6,
   "id": "7d49245c-a249-400c-a3cc-f7e64aab6ac1",
   "metadata": {},
   "outputs": [
    {
     "name": "stdin",
     "output_type": "stream",
     "text": [
      "Enter /path/to/AB.xyz ../structures/MoS2.xyz\n"
     ]
    }
   ],
   "source": [
    "filename = input(\"Enter /path/to/AB.xyz\")\n",
    "\n",
    "# Create an instance of the StructureBuilder class\n",
    "builder = StructureBuilder(filename)\n",
    "\n",
    "# Extract elements from the XYZ file\n",
    "builder.extract_elements()\n",
    "\n",
    "# Extract lattice constants from the XYZ file\n",
    "builder.set_lattice_constants()\n",
    "\n",
    "# Construct coordinates from the XYZ file\n",
    "builder.construct_coordinates()\n",
    "\n",
    "# Build the structure\n",
    "builder.build_structure()\n",
    "\n",
    "# Create a supercell by specifying the dimensions (e.g., 2x2x2)\n",
    "scell_a = 2\n",
    "scell_b = 2\n",
    "scell_c = 1\n",
    "\n",
    "builder.supercell(scell_a, scell_b, scell_c)\n",
    "\n",
    "# Convert the structure to POSCAR format\n",
    "builder.convert_to_poscar()\n",
    "\n",
    "# Write the POSCAR to a file\n",
    "builder.write_poscar_to_file()\n"
   ]
  },
  {
   "cell_type": "markdown",
   "id": "b1e48881-49d7-4988-be91-c3e00ce61a5f",
   "metadata": {},
   "source": [
    "## Generating a simple single atom vacancy using simple_defect_generation from a POSCAR file"
   ]
  },
  {
   "cell_type": "code",
   "execution_count": 7,
   "id": "d7bec975-f518-4052-ac3d-9a1ee7df127f",
   "metadata": {
    "tags": []
   },
   "outputs": [
    {
     "name": "stdin",
     "output_type": "stream",
     "text": [
      "Enter POSCAR to defect (/path/to/AB.vasp) ../structures/MoS2_2x2x1.vasp\n",
      "Enter site of defect:  4\n",
      "Save defect POSCAR as:  ../test/MoS2_2x2_V_S.vasp\n"
     ]
    }
   ],
   "source": [
    "# Import the necessary class from the script\n",
    "import sys\n",
    "sys.path.append('../scripts')\n",
    "from simple_defect_generation import DefectFormation\n",
    "\n",
    "filename = input(\"Enter POSCAR to defect (/path/to/AB.vasp)\")\n",
    "\n",
    "#create an instance of DefectFormation Class\n",
    "\n",
    "defect_maker = DefectFormation(filename)\n",
    "\n",
    "site_index = int(input(\"Enter site of defect: \"))\n",
    "\n",
    "vacancy_def = defect_maker.create_vacancy(site_index)\n",
    "\n",
    "output_filename = input(\"Save defect POSCAR as: \")\n",
    "defect_maker.write_poscar(output_filename)"
   ]
  },
  {
   "cell_type": "markdown",
   "id": "6bc04e34-ca40-41b5-a6e3-a457fa8f4816",
   "metadata": {},
   "source": [
    "At this point, we have a method to generating a POSCAR file given a pristine monolayer .xyz file from C2DB (since lattice constants are pulled from the first line of the .xyz file). To calculate a vasp calculation, a method of POTCAR, INCAR, KPOINT generation is necessary (also a jobscript if running on HPC)"
   ]
  },
  {
   "cell_type": "code",
   "execution_count": 31,
   "id": "b100f9d7-113f-4db1-bde1-0d0e744d4282",
   "metadata": {
    "tags": []
   },
   "outputs": [
    {
     "name": "stdout",
     "output_type": "stream",
     "text": [
      "['Mo', 'S']\n",
      "POTCAR generated\n"
     ]
    }
   ],
   "source": [
    "# Generates a POTCAR file given a POSCAR\n",
    "\n",
    "from pymatgen.io.vasp.inputs import Potcar\n",
    "from pymatgen.core import Lattice, Structure, Molecule\n",
    "from pathlib import Path\n",
    "\n",
    "# Create a Structure object by reading your crystal structure from a file\n",
    "structure = Structure.from_file(\"../test/MoS2_2x2_V_S.vasp\")\n",
    "\n",
    "# Initialize an empty list to store unique elements while preserving order\n",
    "elements = []\n",
    "\n",
    "# Iterate through the sites in the structure\n",
    "for site in structure.sites:\n",
    "    element = str(site.specie)\n",
    "    if element not in elements:\n",
    "        elements.append(element)\n",
    "\n",
    "print(elements)\n",
    "\n",
    "# Specify the functional choice\n",
    "functional = \"PBE\"\n",
    "\n",
    "# Create the Potcar object using the elements from the structure and the functional\n",
    "potcar = Potcar(symbols=elements, functional=functional)\n",
    "\n",
    "# Working directory\n",
    "working_directory = Path(\"../test\")\n",
    "potcar_filepath = working_directory / \"POTCAR\"\n",
    "potcar.write_file(potcar_filepath)\n",
    "print(\"POTCAR generated\")"
   ]
  },
  {
   "cell_type": "code",
   "execution_count": 33,
   "id": "9285f61b-d59d-4734-9ce2-7b649c6590c3",
   "metadata": {
    "tags": []
   },
   "outputs": [],
   "source": [
    "# INCAR Generation\n",
    "from pymatgen.io.vasp.inputs import Incar\n",
    "\n",
    "# INCAR Parameters\n",
    "incar_params = {\n",
    "    \"SYSTEM\": \"Your System Name\",\n",
    "    \"ISTART\": 0,\n",
    "    \"ICHARG\": 2,\n",
    "    \"ENCUT\": 400,\n",
    "    \"EDIFF\": 1e-6,\n",
    "    \"NELM\": 300,\n",
    "    \"ISMEAR\": 0,\n",
    "    \"SIGMA\": 0.05,\n",
    "    \"IALGO\": 38,\n",
    "    \"ISIF\": 4,\n",
    "    \"IBRION\": 2,\n",
    "    \"NSW\": 300,\n",
    "    \"EDIFFG\": -0.005,\n",
    "    \"LCHARG\": False,\n",
    "    \"LWAVE\": False,\n",
    "}\n",
    "\n",
    "# Create an Incar object\n",
    "incar = Incar(incar_params)\n",
    "\n",
    "incar_filepath = working_directory / \"INCAR\"\n",
    "\n",
    "# Write the INCAR file to the current working directory\n",
    "incar.write_file(incar_filepath)\n"
   ]
  },
  {
   "cell_type": "code",
   "execution_count": 38,
   "id": "d82ae0a9-b73e-439d-85a2-c5cc917a07a8",
   "metadata": {
    "tags": []
   },
   "outputs": [],
   "source": [
    "# KPOINT generation\n",
    "from pymatgen.io.vasp.inputs import Kpoints\n",
    "\n",
    "kpoints = Kpoints.monkhorst_automatic(kpts=(5, 5, 1))\n",
    "\n",
    "# Write the KPOINTS file to the specified directory\n",
    "kpoints.write_file(working_directory / \"KPOINTS\")\n"
   ]
  }
 ],
 "metadata": {
  "kernelspec": {
   "display_name": "Python 3 (ipykernel)",
   "language": "python",
   "name": "python3"
  },
  "language_info": {
   "codemirror_mode": {
    "name": "ipython",
    "version": 3
   },
   "file_extension": ".py",
   "mimetype": "text/x-python",
   "name": "python",
   "nbconvert_exporter": "python",
   "pygments_lexer": "ipython3",
   "version": "3.11.6"
  }
 },
 "nbformat": 4,
 "nbformat_minor": 5
}
