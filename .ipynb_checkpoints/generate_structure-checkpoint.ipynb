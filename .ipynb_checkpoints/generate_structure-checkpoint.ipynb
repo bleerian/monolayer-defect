{
 "cells": [
  {
   "cell_type": "code",
   "execution_count": 1,
   "id": "2ce85490-efe3-4d63-b908-1fddf8351242",
   "metadata": {},
   "outputs": [
    {
     "name": "stdin",
     "output_type": "stream",
     "text": [
      "File name containing coordinates (ie: AB2.xyz): MoS2.xyz\n"
     ]
    },
    {
     "name": "stdout",
     "output_type": "stream",
     "text": [
      "['Mo', 'S', 'S']\n"
     ]
    },
    {
     "name": "stdin",
     "output_type": "stream",
     "text": [
      "input a constant:  3.1840664646845926\n",
      "input c constant:  18.12711264635152\n"
     ]
    },
    {
     "name": "stdout",
     "output_type": "stream",
     "text": [
      "['Mo', 'S', 'S']\n",
      "Full Formula (Mo1 S2)\n",
      "Reduced Formula: MoS2\n",
      "abc   :   3.184066   3.184066  18.127113\n",
      "angles:  90.000000  90.000000 120.000000\n",
      "pbc   :       True       True       True\n",
      "Sites (3)\n",
      "  #  SP           a         b         c\n",
      "---  ----  --------  --------  --------\n",
      "  0  Mo    0         0         0.5\n",
      "  1  S     0.666667  0.333333  0.586255\n",
      "  2  S     0.666667  0.333333  0.413745\n"
     ]
    },
    {
     "ename": "NameError",
     "evalue": "name 'built_structure' is not defined",
     "output_type": "error",
     "traceback": [
      "\u001b[0;31m---------------------------------------------------------------------------\u001b[0m",
      "\u001b[0;31mNameError\u001b[0m                                 Traceback (most recent call last)",
      "Cell \u001b[0;32mIn [1], line 45\u001b[0m\n\u001b[1;32m     42\u001b[0m     builder\u001b[38;5;241m.\u001b[39mbuild_structure()\n\u001b[1;32m     43\u001b[0m     builder\u001b[38;5;241m.\u001b[39mdisplay()\n\u001b[0;32m---> 45\u001b[0m built_structure\u001b[38;5;241m.\u001b[39mto(filename\u001b[38;5;241m=\u001b[39m\u001b[38;5;124m\"\u001b[39m\u001b[38;5;124mtest.vasp\u001b[39m\u001b[38;5;124m\"\u001b[39m)\n",
      "\u001b[0;31mNameError\u001b[0m: name 'built_structure' is not defined"
     ]
    }
   ],
   "source": [
    "from pymatgen.core import Lattice, Structure, Molecule\n",
    "\n",
    "class StructureBuilder:\n",
    "    def __init__(self, filename: str):\n",
    "        self.filename = filename\n",
    "        self.elements = []\n",
    "        self.a = 0\n",
    "        self.c = 0\n",
    "        self.coordinates = []\n",
    "        self.built_structure = None\n",
    "        \n",
    "    def extract_elements(self):\n",
    "        with open(self.filename, 'r') as file:\n",
    "            lines = file.readlines()\n",
    "        self.elements = [line.split()[0] for line in lines[2:]]  # Adjust the index as per your file structure if needed\n",
    "    \n",
    "    def read_lattice_constants(self):\n",
    "        self.a = float(input('input a constant: '))\n",
    "        self.c = float(input('input c constant: '))\n",
    "        \n",
    "    def construct_coordinates(self):\n",
    "        xyz = Molecule.from_file(self.filename)\n",
    "        self.coordinates = xyz.cart_coords\n",
    "        \n",
    "    def build_structure(self):\n",
    "        if not self.elements or len(self.coordinates) == 0 or self.a == 0 or self.c == 0:\n",
    "            raise ValueError(\"Elements, coordinates and lattice constants must be initialized before building the structure\")\n",
    "        self.built_structure = Structure(Lattice.hexagonal(self.a, self.c), self.elements, self.coordinates, coords_are_cartesian=True)\n",
    "        \n",
    "    def display(self):\n",
    "        print(self.elements)\n",
    "        if self.built_structure:\n",
    "            print(self.built_structure)\n",
    "\n",
    "if __name__ == \"__main__\":\n",
    "    filename = input(\"File name containing coordinates (ie: AB2.xyz):\")\n",
    "    builder = StructureBuilder(filename)\n",
    "    builder.extract_elements()\n",
    "    builder.display()\n",
    "    builder.read_lattice_constants()\n",
    "    builder.construct_coordinates()\n",
    "    builder.build_structure()\n",
    "    builder.display()\n",
    "    "
   ]
  },
  {
   "cell_type": "code",
   "execution_count": null,
   "id": "0a2cc95d-a449-44f5-9d07-53d8fa4dcd8e",
   "metadata": {},
   "outputs": [],
   "source": []
  },
  {
   "cell_type": "code",
   "execution_count": 5,
   "id": "647245d7-199e-4bb0-b339-bf6fd9832dde",
   "metadata": {},
   "outputs": [
    {
     "name": "stdin",
     "output_type": "stream",
     "text": [
      "File name containing coordinates (ie: AB2.xyz): MoS2.xyz\n"
     ]
    },
    {
     "name": "stdout",
     "output_type": "stream",
     "text": [
      "['Mo', 'S', 'S']\n"
     ]
    },
    {
     "name": "stdin",
     "output_type": "stream",
     "text": [
      "input a constant:  3.184\n",
      "input c constant:  18.127\n"
     ]
    },
    {
     "name": "stdout",
     "output_type": "stream",
     "text": [
      "['Mo', 'S', 'S']\n",
      "Full Formula (Mo1 S2)\n",
      "Reduced Formula: MoS2\n",
      "abc   :   3.184000   3.184000  18.127000\n",
      "angles:  90.000000  90.000000 120.000000\n",
      "pbc   :       True       True       True\n",
      "Sites (3)\n",
      "  #  SP           a        b         c\n",
      "---  ----  --------  -------  --------\n",
      "  0  Mo    0         0        0.500003\n",
      "  1  S     0.666681  0.33334  0.586259\n",
      "  2  S     0.666681  0.33334  0.413747\n"
     ]
    }
   ],
   "source": [
    "from pymatgen.core import Lattice, Structure, Molecule\n",
    "from pymatgen.io.vasp.inputs import Poscar\n",
    "\n",
    "class StructureBuilder:\n",
    "    def __init__(self, filename: str):\n",
    "        self.filename = filename\n",
    "        self.elements = []\n",
    "        self.a = 0\n",
    "        self.c = 0\n",
    "        self.coordinates = []\n",
    "        self.built_structure = None\n",
    "        self.poscar = None  # To hold the Poscar object\n",
    "        \n",
    "    def extract_elements(self):\n",
    "        with open(self.filename, 'r') as file:\n",
    "            lines = file.readlines()\n",
    "        self.elements = [line.split()[0] for line in lines[2:]]  # Adjust the index as per your file structure if needed\n",
    "    \n",
    "    def read_lattice_constants(self):\n",
    "        self.a = float(input('input a constant: '))\n",
    "        self.c = float(input('input c constant: '))\n",
    "        \n",
    "    def construct_coordinates(self):\n",
    "        xyz = Molecule.from_file(self.filename)\n",
    "        self.coordinates = xyz.cart_coords\n",
    "        \n",
    "    def build_structure(self):\n",
    "        if not self.elements or len(self.coordinates) == 0 or self.a == 0 or self.c == 0:\n",
    "            raise ValueError(\"Elements, coordinates and lattice constants must be initialized before building the structure\")\n",
    "        self.built_structure = Structure(Lattice.hexagonal(self.a, self.c), self.elements, self.coordinates, coords_are_cartesian=True)\n",
    "    \n",
    "    def convert_to_poscar(self):\n",
    "        if self.built_structure is None:\n",
    "            raise ValueError(\"Structure must be built before converting to POSCAR\")\n",
    "        self.poscar = Poscar(self.built_structure)\n",
    "    \n",
    "    def write_poscar_to_file(self, filename='POSCAR'):\n",
    "        if self.poscar is None:\n",
    "            raise ValueError(\"Poscar must be initialized before writing to a file\")\n",
    "        self.poscar.write_file(filename)\n",
    "        \n",
    "    def display(self):\n",
    "        print(self.elements)\n",
    "        if self.built_structure:\n",
    "            print(self.built_structure)\n",
    "        if self.poscar:\n",
    "            print(self.poscar)\n",
    "\n",
    "\n",
    "if __name__ == \"__main__\":\n",
    "    filename = input(\"File name containing coordinates (ie: AB2.xyz):\")\n",
    "    builder = StructureBuilder(filename)\n",
    "    builder.extract_elements()\n",
    "    builder.display()\n",
    "    builder.read_lattice_constants()\n",
    "    builder.construct_coordinates()\n",
    "    builder.build_structure()\n",
    "    builder.display()"
   ]
  },
  {
   "cell_type": "code",
   "execution_count": null,
   "id": "57084c92-3cb4-4953-884d-84df706246a2",
   "metadata": {},
   "outputs": [],
   "source": [
    "with open('MoS2.json') as file:\n",
    "    dct = json.load(file)\n",
    "    structure = Structure.from_dict(dct)"
   ]
  }
 ],
 "metadata": {
  "kernelspec": {
   "display_name": "Python 3 (ipykernel)",
   "language": "python",
   "name": "python3"
  },
  "language_info": {
   "codemirror_mode": {
    "name": "ipython",
    "version": 3
   },
   "file_extension": ".py",
   "mimetype": "text/x-python",
   "name": "python",
   "nbconvert_exporter": "python",
   "pygments_lexer": "ipython3",
   "version": "3.10.6"
  }
 },
 "nbformat": 4,
 "nbformat_minor": 5
}
