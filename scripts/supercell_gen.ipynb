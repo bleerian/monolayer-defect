{
 "cells": [
  {
   "cell_type": "code",
   "execution_count": 1,
   "id": "d7bec975-f518-4052-ac3d-9a1ee7df127f",
   "metadata": {
    "tags": []
   },
   "outputs": [],
   "source": [
    "# Import the necessary class from the script\n",
    "from xyz2supercell import StructureBuilder\n",
    "\n",
    "# Replace 'your_input.xyz' with the path to your XYZ file\n",
    "filename = '../structures/MoS2.xyz'\n",
    "\n",
    "# Create an instance of the StructureBuilder class\n",
    "builder = StructureBuilder(filename)\n",
    "\n",
    "# Extract elements from the XYZ file\n",
    "builder.extract_elements()\n",
    "\n",
    "# Extract lattice constants from the XYZ file\n",
    "builder.set_lattice_constants()\n",
    "\n",
    "# Construct coordinates from the XYZ file\n",
    "builder.construct_coordinates()\n",
    "\n",
    "# Build the structure\n",
    "builder.build_structure()\n",
    "\n",
    "# Create a supercell by specifying the dimensions (e.g., 2x2x2)\n",
    "scell_a = 2\n",
    "scell_b = 2\n",
    "scell_c = 1\n",
    "\n",
    "builder.supercell(scell_a, scell_b, scell_c)\n",
    "\n",
    "# Convert the structure to POSCAR format\n",
    "builder.convert_to_poscar()\n",
    "\n",
    "# Write the POSCAR to a file\n",
    "builder.write_poscar_to_file()\n"
   ]
  },
  {
   "cell_type": "code",
   "execution_count": null,
   "id": "87965ec0-d279-4c63-8f1f-d3afdca557f4",
   "metadata": {},
   "outputs": [],
   "source": []
  }
 ],
 "metadata": {
  "kernelspec": {
   "display_name": "Python 3 (ipykernel)",
   "language": "python",
   "name": "python3"
  },
  "language_info": {
   "codemirror_mode": {
    "name": "ipython",
    "version": 3
   },
   "file_extension": ".py",
   "mimetype": "text/x-python",
   "name": "python",
   "nbconvert_exporter": "python",
   "pygments_lexer": "ipython3",
   "version": "3.11.6"
  }
 },
 "nbformat": 4,
 "nbformat_minor": 5
}
