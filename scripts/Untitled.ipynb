{
 "cells": [
  {
   "cell_type": "code",
   "execution_count": 11,
   "id": "26cc31be-e7d6-40cc-b488-0a4fd00cadf6",
   "metadata": {
    "tags": []
   },
   "outputs": [
    {
     "ename": "IndexError",
     "evalue": "Replacement index 1 out of range for positional args tuple",
     "output_type": "error",
     "traceback": [
      "\u001b[0;31m---------------------------------------------------------------------------\u001b[0m",
      "\u001b[0;31mIndexError\u001b[0m                                Traceback (most recent call last)",
      "Cell \u001b[0;32mIn[11], line 17\u001b[0m\n\u001b[1;32m     14\u001b[0m defect_site \u001b[38;5;241m=\u001b[39m PeriodicSite(bulk_structure\u001b[38;5;241m.\u001b[39msites[\u001b[38;5;241m0\u001b[39m]\u001b[38;5;241m.\u001b[39mspecie, bulk_structure\u001b[38;5;241m.\u001b[39msites[\u001b[38;5;241m0\u001b[39m]\u001b[38;5;241m.\u001b[39mfrac_coords, \n\u001b[1;32m     15\u001b[0m                            bulk_structure\u001b[38;5;241m.\u001b[39mlattice)\n\u001b[1;32m     16\u001b[0m vac \u001b[38;5;241m=\u001b[39m Vacancy(bulk_structure, defect_site)\n\u001b[0;32m---> 17\u001b[0m \u001b[38;5;28mprint\u001b[39m(\u001b[38;5;124;43m\"\u001b[39;49m\u001b[38;5;124;43mCreating Defect \u001b[39;49m\u001b[38;5;132;43;01m{}\u001b[39;49;00m\u001b[38;5;124;43m in charge state \u001b[39;49m\u001b[38;5;132;43;01m{}\u001b[39;49;00m\u001b[38;5;124;43m:\u001b[39;49m\u001b[38;5;124;43m\"\u001b[39;49m\u001b[38;5;241;43m.\u001b[39;49m\u001b[43mformat\u001b[49m\u001b[43m(\u001b[49m\u001b[43m \u001b[49m\u001b[43mvac\u001b[49m\u001b[38;5;241;43m.\u001b[39;49m\u001b[43mname\u001b[49m\u001b[43m)\u001b[49m)\n\u001b[1;32m     18\u001b[0m \u001b[38;5;28mprint\u001b[39m(vac\u001b[38;5;241m.\u001b[39mgenerate_defect_structure( supercell\u001b[38;5;241m=\u001b[39m(\u001b[38;5;241m2\u001b[39m, \u001b[38;5;241m1\u001b[39m, \u001b[38;5;241m1\u001b[39m)))\n",
      "\u001b[0;31mIndexError\u001b[0m: Replacement index 1 out of range for positional args tuple"
     ]
    }
   ],
   "source": [
    "# manually create defect objects and generate their supercell structures\n",
    "from pathlib import Path\n",
    "from pymatgen.core import Structure\n",
    "from pymatgen.analysis.defects.core import Vacancy, Substitution, Interstitial\n",
    "from pymatgen.io.vasp import Poscar\n",
    "from pymatgen.ext.matproj import MPRester\n",
    "from pymatgen.core.sites import PeriodicSite\n",
    "\n",
    "STRUCTURE_FILES = Path(\"../structures\")\n",
    "vasp_structure = \"MoS2_2x2x1.vasp\"    \n",
    "bulk_structure_path = STRUCTURE_FILES / vasp_structure\n",
    "bulk_structure = Structure.from_file(bulk_structure_path)\n",
    "\n",
    "defect_site = PeriodicSite(bulk_structure.sites[0].specie, bulk_structure.sites[0].frac_coords, \n",
    "                           bulk_structure.lattice)\n",
    "vac = Vacancy(bulk_structure, defect_site)\n",
    "print(\"Creating Defect {} in charge state {}:\".format( vac.name))\n",
    "print(vac.generate_defect_structure( supercell=(2, 1, 1)))\n"
   ]
  }
 ],
 "metadata": {
  "kernelspec": {
   "display_name": "Python 3 (ipykernel)",
   "language": "python",
   "name": "python3"
  },
  "language_info": {
   "codemirror_mode": {
    "name": "ipython",
    "version": 3
   },
   "file_extension": ".py",
   "mimetype": "text/x-python",
   "name": "python",
   "nbconvert_exporter": "python",
   "pygments_lexer": "ipython3",
   "version": "3.11.6"
  }
 },
 "nbformat": 4,
 "nbformat_minor": 5
}
