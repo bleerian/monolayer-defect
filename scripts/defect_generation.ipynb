{
 "cells": [
  {
   "cell_type": "code",
   "execution_count": 9,
   "id": "05e0047e-8f0f-4c30-85f9-f57284450aa4",
   "metadata": {},
   "outputs": [
    {
     "ename": "KeyError",
     "evalue": "'lattice'",
     "output_type": "error",
     "traceback": [
      "\u001b[0;31m---------------------------------------------------------------------------\u001b[0m",
      "\u001b[0;31mKeyError\u001b[0m                                  Traceback (most recent call last)",
      "Cell \u001b[0;32mIn [9], line 11\u001b[0m\n\u001b[1;32m      9\u001b[0m \u001b[38;5;28;01mwith\u001b[39;00m \u001b[38;5;28mopen\u001b[39m(\u001b[38;5;124m'\u001b[39m\u001b[38;5;124m../MoS2.json\u001b[39m\u001b[38;5;124m'\u001b[39m, \u001b[38;5;124m'\u001b[39m\u001b[38;5;124mr\u001b[39m\u001b[38;5;124m'\u001b[39m) \u001b[38;5;28;01mas\u001b[39;00m f:\n\u001b[1;32m     10\u001b[0m     d \u001b[38;5;241m=\u001b[39m json\u001b[38;5;241m.\u001b[39mload(f)\n\u001b[0;32m---> 11\u001b[0m     structure \u001b[38;5;241m=\u001b[39m Structure\u001b[38;5;241m.\u001b[39mfrom_dict(d)\n\u001b[1;32m     14\u001b[0m structure \u001b[38;5;241m=\u001b[39m mg\u001b[38;5;241m.\u001b[39mStructure\u001b[38;5;241m.\u001b[39mfrom_file(\u001b[38;5;124m\"\u001b[39m\u001b[38;5;124mTiBe12_616454.cif\u001b[39m\u001b[38;5;124m\"\u001b[39m)\n",
      "File \u001b[0;32m~/.local/lib/python3.10/site-packages/pymatgen/core/structure.py:2635\u001b[0m, in \u001b[0;36mIStructure.from_dict\u001b[0;34m(cls, d, fmt)\u001b[0m\n\u001b[1;32m   2631\u001b[0m     \u001b[38;5;28;01mfrom\u001b[39;00m \u001b[38;5;21;01mpymatgen\u001b[39;00m\u001b[38;5;21;01m.\u001b[39;00m\u001b[38;5;21;01mio\u001b[39;00m\u001b[38;5;21;01m.\u001b[39;00m\u001b[38;5;21;01mabinit\u001b[39;00m\u001b[38;5;21;01m.\u001b[39;00m\u001b[38;5;21;01mabiobjects\u001b[39;00m \u001b[38;5;28;01mimport\u001b[39;00m structure_from_abivars\n\u001b[1;32m   2633\u001b[0m     \u001b[38;5;28;01mreturn\u001b[39;00m structure_from_abivars(\u001b[38;5;28mcls\u001b[39m\u001b[38;5;241m=\u001b[39m\u001b[38;5;28mcls\u001b[39m, \u001b[38;5;241m*\u001b[39m\u001b[38;5;241m*\u001b[39md)\n\u001b[0;32m-> 2635\u001b[0m lattice \u001b[38;5;241m=\u001b[39m Lattice\u001b[38;5;241m.\u001b[39mfrom_dict(\u001b[43md\u001b[49m\u001b[43m[\u001b[49m\u001b[38;5;124;43m\"\u001b[39;49m\u001b[38;5;124;43mlattice\u001b[39;49m\u001b[38;5;124;43m\"\u001b[39;49m\u001b[43m]\u001b[49m)\n\u001b[1;32m   2636\u001b[0m sites \u001b[38;5;241m=\u001b[39m [PeriodicSite\u001b[38;5;241m.\u001b[39mfrom_dict(sd, lattice) \u001b[38;5;28;01mfor\u001b[39;00m sd \u001b[38;5;129;01min\u001b[39;00m d[\u001b[38;5;124m\"\u001b[39m\u001b[38;5;124msites\u001b[39m\u001b[38;5;124m\"\u001b[39m]]\n\u001b[1;32m   2637\u001b[0m charge \u001b[38;5;241m=\u001b[39m d\u001b[38;5;241m.\u001b[39mget(\u001b[38;5;124m\"\u001b[39m\u001b[38;5;124mcharge\u001b[39m\u001b[38;5;124m\"\u001b[39m)\n",
      "\u001b[0;31mKeyError\u001b[0m: 'lattice'"
     ]
    }
   ],
   "source": [
    "import json\n",
    "from pymatgen.core import Lattice, Structure, Molecule\n",
    "import pymatgen as mg\n",
    "\"\"\"\n",
    "with open('../structures/MoS2.json') as file:\n",
    "    dct = json.load(file)\n",
    "    structure = Structure.from_dict(dct)\n",
    "\"\"\"\n",
    "with open('../MoS2.json', 'r') as f:\n",
    "    d = json.load(f)\n",
    "    structure = Structure.from_dict(d)\n",
    "    \n",
    "    \n",
    "structure = mg.Structure.from_file(\"TiBe12_616454.cif\")"
   ]
  }
 ],
 "metadata": {
  "kernelspec": {
   "display_name": "Python 3 (ipykernel)",
   "language": "python",
   "name": "python3"
  },
  "language_info": {
   "codemirror_mode": {
    "name": "ipython",
    "version": 3
   },
   "file_extension": ".py",
   "mimetype": "text/x-python",
   "name": "python",
   "nbconvert_exporter": "python",
   "pygments_lexer": "ipython3",
   "version": "3.10.6"
  }
 },
 "nbformat": 4,
 "nbformat_minor": 5
}
