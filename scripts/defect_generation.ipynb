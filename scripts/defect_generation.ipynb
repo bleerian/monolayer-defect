{
 "cells": [
  {
   "cell_type": "code",
   "execution_count": 1,
   "id": "05e0047e-8f0f-4c30-85f9-f57284450aa4",
   "metadata": {},
   "outputs": [
    {
     "name": "stdin",
     "output_type": "stream",
     "text": [
      "File name of POSCAR to defect:  MoS2_2x2x1.vasp\n",
      "Enter site of defect:  4\n",
      "Name of defect POSCAR:  MoS2_2x2x1_V_S.vasp\n"
     ]
    },
    {
     "name": "stdout",
     "output_type": "stream",
     "text": [
      "S Vacancy defect at site #4\n"
     ]
    }
   ],
   "source": [
    "\"\"\"\n",
    "A very simple (too simple?) way of generating a simple vacancy in a POSCAR file.\n",
    "\n",
    "Use Example: (given that POSCAR file is stored in ../structures)\n",
    "python3 defect_generation.py\n",
    "\n",
    "File name of POSCAR to defect:  \"Input POSCAR name\"\n",
    "Enter site of defect:  \"Input site to defect\"\n",
    "Name of defect POSCAR:  \"Input filename to save to\"\n",
    "\n",
    "Current limitations, you must know which site to defect (ie for 2x2 MoS2, there are 4 Mo and 8 S, So index 0-3 describes Mo and 4-7 describes S)\n",
    "\"\"\"\n",
    "\n",
    "from pathlib import Path\n",
    "from pymatgen.analysis.defects.core import Vacancy\n",
    "from pymatgen.core import Structure\n",
    "from pymatgen.io.vasp import Poscar\n",
    "\n",
    "class DefectFormation:\n",
    "    STRUCTURE_FILES = Path(\"../structures\")\n",
    "    \n",
    "    def __init__(self, filename: str):\n",
    "        self.filename = filename\n",
    "        self.structure = Structure.from_file(DefectFormation.STRUCTURE_FILES / self.filename)\n",
    "        self.defect_structure = None\n",
    "    \n",
    "    def create_vacancy(self, site_index: int):\n",
    "        vac_site = self.structure[site_index]\n",
    "        self.defect_structure = Vacancy(self.structure, site=vac_site)\n",
    "        return self.defect_structure\n",
    "    \n",
    "    def write_poscar(self, output_filename: str):\n",
    "        if not self.defect_structure:\n",
    "            raise ValueError(\"Defect structure has not been initialized.\")\n",
    "        defect_poscar = Poscar(self.defect_structure.defect_structure)\n",
    "        defect_poscar.write_file(output_filename)\n",
    "\n",
    "if __name__ == \"__main__\":\n",
    "    filename = input(\"File name of POSCAR to defect: \")\n",
    "    site_index = int(input(\"Enter site of defect: \"))\n",
    "    output_filename = input(\"Name of defect POSCAR: \")\n",
    "    \n",
    "    defect_creator = DefectFormation(filename)\n",
    "    defect = defect_creator.create_vacancy(site_index)\n",
    "    print(defect)\n",
    "    \n",
    "    defect_creator.write_poscar(output_filename)\n"
   ]
  },
  {
   "cell_type": "code",
   "execution_count": null,
   "id": "68ff99cc-aa04-4c6d-91cf-b65a0ea339df",
   "metadata": {
    "tags": []
   },
   "outputs": [],
   "source": []
  },
  {
   "cell_type": "code",
   "execution_count": null,
   "id": "a860c11b-d364-439a-976b-cfacdc3e66fd",
   "metadata": {
    "tags": []
   },
   "outputs": [],
   "source": []
  },
  {
   "cell_type": "code",
   "execution_count": null,
   "id": "275c3c3f-a2d4-4eae-8ffb-4021867f240d",
   "metadata": {
    "tags": []
   },
   "outputs": [],
   "source": []
  }
 ],
 "metadata": {
  "kernelspec": {
   "display_name": "Python 3 (ipykernel)",
   "language": "python",
   "name": "python3"
  },
  "language_info": {
   "codemirror_mode": {
    "name": "ipython",
    "version": 3
   },
   "file_extension": ".py",
   "mimetype": "text/x-python",
   "name": "python",
   "nbconvert_exporter": "python",
   "pygments_lexer": "ipython3",
   "version": "3.11.6"
  }
 },
 "nbformat": 4,
 "nbformat_minor": 5
}
